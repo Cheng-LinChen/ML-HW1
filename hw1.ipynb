{
  "nbformat": 4,
  "nbformat_minor": 0,
  "metadata": {
    "colab": {
      "provenance": [],
      "collapsed_sections": []
    },
    "kernelspec": {
      "name": "python3",
      "display_name": "Python 3"
    },
    "language_info": {
      "name": "python"
    }
  },
  "cells": [
    {
      "cell_type": "markdown",
      "source": [
        "# **HW1: Regression** \n",
        "In *assignment 1*, you need to finish:\n",
        "\n",
        "1.  Basic Part: Implement the regression model to predict the number of dengue cases\n",
        "\n",
        "\n",
        "> *   Step 1: Split Data\n",
        "> *   Step 2: Preprocess Data\n",
        "> *   Step 3: Implement Regression\n",
        "> *   Step 4: Make Prediction\n",
        "> *   Step 5: Train Model and Generate Result\n",
        "\n",
        "2.  Advanced Part: Implementing a regression model to predict the number of dengue cases in a different way than the basic part"
      ],
      "metadata": {
        "id": "X_Te27fi-0pP"
      }
    },
    {
      "cell_type": "markdown",
      "source": [
        "# 1. Basic Part (60%)\n",
        "In the first part, you need to implement the regression to predict the number of dengue cases\n",
        "\n",
        "Please save the prediction result in a csv file **hw1_basic.csv**\n"
      ],
      "metadata": {
        "id": "_wDdnos-4uUv"
      }
    },
    {
      "cell_type": "markdown",
      "source": [
        "## Import Packages\n",
        "\n",
        "> Note: You **cannot** import any other package in the basic part"
      ],
      "metadata": {
        "id": "RzCR7vk9BFkf"
      }
    },
    {
      "cell_type": "code",
      "source": [
        "import numpy as np\n",
        "import matplotlib.pyplot as plt\n",
        "import pandas as pd\n",
        "import csv\n",
        "import math\n",
        "import random"
      ],
      "metadata": {
        "id": "HL5XjqFf4wSj"
      },
      "execution_count": 234,
      "outputs": []
    },
    {
      "cell_type": "markdown",
      "source": [
        "## Global attributes\n",
        "Define the global attributes"
      ],
      "metadata": {
        "id": "jnWjrzi0dMPz"
      }
    },
    {
      "cell_type": "code",
      "source": [
        "input_dataroot = 'hw1_basic_input.csv' # Input file named as 'hw1_basic_input.csv'\n",
        "output_dataroot = 'hw1_basic.csv' # Output file will be named as 'hw1_basic.csv'\n",
        "ad_output_dataroot = 'hw1_advanced.csv'\n",
        "\n",
        "input_ad1_dataroot = 'hw1_advanced_input1.csv' # Input file named as 'hw1_basic_input.csv'\n",
        "input_ad2_dataroot = 'hw1_advanced_input2.csv' # Input file named as 'hw1_basic_input.csv'\n",
        "\n",
        "input_datalist =  [] # Initial datalist, saved as numpy array\n",
        "input_ad1_datalist = []\n",
        "input_ad2_datalist = []\n",
        "\n",
        "output_datalist =  [] # Your prediction, should be 10 * 4 matrix and saved as numpy array\n",
        "             # The format of each row should be ['epiweek', 'CityA', 'CityB', 'CityC']\n",
        "ad_output_datalist =  []             "
      ],
      "metadata": {
        "id": "EWLDPOlHBbcK"
      },
      "execution_count": 235,
      "outputs": []
    },
    {
      "cell_type": "markdown",
      "source": [
        "You can add your own global attributes here\n"
      ],
      "metadata": {
        "id": "PsFC-cvqIcYK"
      }
    },
    {
      "cell_type": "markdown",
      "source": [],
      "metadata": {
        "id": "LRZz0tzUIgOx"
      }
    },
    {
      "cell_type": "code",
      "source": [
        "\n",
        "training_dataset = []\n",
        "validation_dataset = []\n",
        "\n",
        "training_dataset_a = []\n",
        "training_dataset_b = []\n",
        "training_dataset_c = []\n",
        "validation_dataset_a = []\n",
        "validation_dataset_b = []\n",
        "validation_dataset_c = []\n",
        "\n",
        "fil_a = []\n",
        "fil_b = []\n",
        "fil_c = []\n",
        "\n",
        "w_a = []\n",
        "w_b = []\n",
        "w_c = []\n",
        "\n"
      ],
      "metadata": {
        "id": "OUbS2BEgcut6"
      },
      "execution_count": 236,
      "outputs": []
    },
    {
      "cell_type": "markdown",
      "source": [
        "## Load the Input File\n",
        "First, load the basic input file **hw1_basic_input.csv**\n",
        "\n",
        "Input data would be stored in *input_datalist*"
      ],
      "metadata": {
        "id": "rUoRFoQjBW5S"
      }
    },
    {
      "cell_type": "code",
      "source": [
        "from google.colab import drive\n",
        "drive.mount('/content/drive')"
      ],
      "metadata": {
        "colab": {
          "base_uri": "https://localhost:8080/"
        },
        "id": "eXw8wERF70Se",
        "outputId": "b3f8ac47-933f-4e7a-bae9-11eb660350a4"
      },
      "execution_count": 237,
      "outputs": [
        {
          "output_type": "stream",
          "name": "stdout",
          "text": [
            "Drive already mounted at /content/drive; to attempt to forcibly remount, call drive.mount(\"/content/drive\", force_remount=True).\n"
          ]
        }
      ]
    },
    {
      "cell_type": "code",
      "source": [
        "# Read input csv to datalist\n",
        "with open(input_dataroot, newline='') as csvfile:\n",
        "  input_datalist = np.array(list(csv.reader(csvfile)))\n",
        "\n",
        "with open(input_ad1_dataroot, newline='') as csvfile:\n",
        "  input_ad1_datalist = np.array(list(csv.reader(csvfile)))\n",
        "\n",
        "with open(input_ad2_dataroot, newline='') as csvfile:\n",
        "  input_ad2_datalist = np.array(list(csv.reader(csvfile)))\n"
      ],
      "metadata": {
        "id": "dekR1KnqBtI6"
      },
      "execution_count": 238,
      "outputs": []
    },
    {
      "cell_type": "markdown",
      "source": [
        "## Implement the Regression Model\n",
        "\n",
        "> Note: It is recommended to use the functions we defined, you can also define your own functions\n"
      ],
      "metadata": {
        "id": "6kYPuikLCFx4"
      }
    },
    {
      "cell_type": "markdown",
      "source": [
        "### Step 1: Split Data\n",
        "Split data in *input_datalist* into training dataset and validation dataset \n",
        "\n"
      ],
      "metadata": {
        "id": "jWwdx06JNEYs"
      }
    },
    {
      "cell_type": "code",
      "source": [
        "# def SplitData(): "
      ],
      "metadata": {
        "id": "USDciENcB-5F"
      },
      "execution_count": 239,
      "outputs": []
    },
    {
      "cell_type": "markdown",
      "source": [
        "### Step 2: Preprocess Data\n",
        "Handle the unreasonable data\n",
        "> Hint: Outlier and missing data can be handled by removing the data or adding the values with the help of statistics  "
      ],
      "metadata": {
        "id": "u-3Qln4aNgVy"
      }
    },
    {
      "cell_type": "code",
      "source": [
        "def PreprocessData():\n",
        "  global fil_a,fil_b,fil_c,ad_fil_a,ad_fil_b,ad_fil_c\n",
        "#####advanced\n",
        "  ad_unfil_data_1 = input_ad1_datalist[1:]\n",
        "  ad_unfil_data_2 = ad_unfil_data_1.astype(float)\n",
        "\n",
        "  # ad_fil_a_u = ad_unfil_data_3[1]\n",
        "  # ad_fil_b_u = ad_unfil_data_3[2]\n",
        "  # ad_fil_c_u = ad_unfil_data_3[3]\n",
        "\n",
        "  # ad_fil_a_w = ad_unfil_data_3[1][1:95]\n",
        "  # ad_fil_b_w = ad_unfil_data_3[2][1:95]\n",
        "  # ad_fil_c_w = ad_unfil_data_3[3][1:95]\n",
        "#####  \n",
        "\n",
        "  unfil_data_1 = input_datalist[1:95]\n",
        "  filter_1 = []\n",
        "  for row in unfil_data_1:\n",
        "    if row[1] == '' or row[2] == '' or row[3] == '':\n",
        "      filter_1.append(False)\n",
        "    else:\n",
        "      filter_1.append(True)\n",
        "\n",
        "  unfil_data_2 = unfil_data_1[filter_1]\n",
        "  unfil_data_3 = unfil_data_2.T\n",
        "  unfil_data_4 = unfil_data_3[1:]\n",
        "  unfil_data_5 = unfil_data_4.astype(np.float) \n",
        "\n",
        "  ###\n",
        "  ad_unfil_data_95 = ad_unfil_data_2[:94]\n",
        "  ad_unfil_data_10 = ad_unfil_data_2[-10:]\n",
        "  ad_unfil_data_95_1 = ad_unfil_data_95[filter_1]\n",
        "  \n",
        "  ad_unfil_data_95_2 = ad_unfil_data_95_1.T\n",
        "  ad_fil_a_95 = ad_unfil_data_95_2[1][:94]\n",
        "  ad_fil_b_95 = ad_unfil_data_95_2[2][:94]\n",
        "  ad_fil_c_95 = ad_unfil_data_95_2[3][:94]\n",
        "  ad_fil_a_10 = ad_unfil_data_10[1][94:]\n",
        "  ad_fil_b_10 = ad_unfil_data_10[2][94:]\n",
        "  ad_fil_c_10 = ad_unfil_data_10[3][94:]\n",
        "  \n",
        "  ###\n",
        " \n",
        "  \n",
        "  unfil_a_t = np.array([unfil_data_5[0],unfil_data_5[3]])\n",
        "  unfil_b_t = np.array([unfil_data_5[1],unfil_data_5[4]])\n",
        "  unfil_c_t = np.array([unfil_data_5[2],unfil_data_5[5]])\n",
        "  unfil_a = unfil_a_t.T\n",
        "  unfil_b = unfil_b_t.T\n",
        "  unfil_c = unfil_c_t.T\n",
        "\n",
        "\n",
        "  unfil_p25_0 = np.quantile(unfil_data_5[0], 0.25)\n",
        "  unfil_p75_0 = np.quantile(unfil_data_5[0], 0.75)\n",
        "  unfil_bar_0 = 1.5*(unfil_p75_0 - unfil_p25_0)\n",
        "  unfil_p25_1 = np.quantile(unfil_data_5[1], 0.25)\n",
        "  unfil_p75_1 = np.quantile(unfil_data_5[1], 0.75)\n",
        "  unfil_bar_1 = 1.5*(unfil_p75_1 - unfil_p25_1)\n",
        "  unfil_p25_2 = np.quantile(unfil_data_5[2], 0.25)\n",
        "  unfil_p75_2 = np.quantile(unfil_data_5[2], 0.75)\n",
        "  unfil_bar_2 = 1.5*(unfil_p75_2 - unfil_p25_2)\n",
        "  \n",
        "\n",
        "  celing_0 = unfil_p75_0 + unfil_bar_0\n",
        "  floor_0 = unfil_p25_0 - unfil_bar_0\n",
        "  celing_1 = unfil_p75_1 + unfil_bar_1\n",
        "  floor_1 = unfil_p25_1 - unfil_bar_1\n",
        "  celing_2 = unfil_p75_2 + unfil_bar_2\n",
        "  floor_2 = unfil_p25_2 - unfil_bar_2\n",
        "\n",
        "  f_a = []\n",
        "  for ele in unfil_a:\n",
        "    if (ele[0] < floor_0) or (ele[0] > celing_0): \n",
        "      f_a.append(False)\n",
        "    else:\n",
        "      f_a.append(True)\n",
        "  fil_a = unfil_a[f_a]\n",
        "  ad_fil_a = ad_fil_a_95[f_a]\n",
        "  \n",
        " \n",
        "  f_b = []\n",
        "  for ele in unfil_b:\n",
        "    if (ele[0] < floor_1) or (ele[0] > celing_1): \n",
        "      f_b.append(False)\n",
        "    else:\n",
        "      f_b.append(True)\n",
        "  fil_b = unfil_b[f_b]\n",
        "  ad_fil_b = ad_fil_b_95[f_b]\n",
        "\n",
        "  f_c = []\n",
        "  for ele in unfil_c:\n",
        "    if (ele[0] < floor_2) or (ele[0] > celing_2): \n",
        "      f_c.append(False)\n",
        "    else:\n",
        "      f_c.append(True)\n",
        "  fil_c = unfil_c[f_c]\n",
        "  ad_fil_c = ad_fil_c_95[f_c]\n",
        "  \n",
        "  # print(len(fil_a))\n",
        "  # print(len(fil_b))\n",
        "  # print(len(fil_c))\n",
        " \n",
        "  # print(len(ad_fil_a))\n",
        "  # print(len(ad_fil_b))\n",
        "  # print(len(ad_fil_c))\n",
        "  # print(ad_fil_a)\n",
        "  # print(ad_fil_b)\n",
        "  # print(ad_fil_c)\n",
        "\n",
        "  "
      ],
      "metadata": {
        "id": "XXvW1n_5NkQ5"
      },
      "execution_count": 240,
      "outputs": []
    },
    {
      "cell_type": "code",
      "source": [
        "PreprocessData()"
      ],
      "metadata": {
        "colab": {
          "base_uri": "https://localhost:8080/"
        },
        "id": "wPi_5orZdI2W",
        "outputId": "94b64918-0a8d-4f5c-a3cb-2ec49de199b1"
      },
      "execution_count": 241,
      "outputs": [
        {
          "output_type": "stream",
          "name": "stderr",
          "text": [
            "/usr/local/lib/python3.7/dist-packages/ipykernel_launcher.py:27: DeprecationWarning: `np.float` is a deprecated alias for the builtin `float`. To silence this warning, use `float` by itself. Doing this will not modify any behavior and is safe. If you specifically wanted the numpy scalar type, use `np.float64` here.\n",
            "Deprecated in NumPy 1.20; for more details and guidance: https://numpy.org/devdocs/release/1.20.0-notes.html#deprecations\n"
          ]
        }
      ]
    },
    {
      "cell_type": "markdown",
      "source": [
        "### Step 3: Implement Regression\n",
        "> Hint: You can use Matrix Inversion, or Gradient Descent to finish this part\n",
        "\n",
        "\n"
      ],
      "metadata": {
        "id": "yDLpJmQUN3V6"
      }
    },
    {
      "cell_type": "code",
      "source": [
        "def Regression():\n",
        "  global w_a,w_b,w_c    \n",
        "  # #city_a\n",
        "\n",
        "  w_a = np.zeros(6)\n",
        "  fil_a_3 = fil_a.T[1][3:]\n",
        "  # print(fil_a_3)\n",
        "  pre_a = np.zeros(len(fil_a))\n",
        "\n",
        "  for j in range(0,3):\n",
        "    pre_a[j] = fil_a[j][1]\n",
        "  for j in range(3,len(pre_a)):\n",
        "    pre_a[j] = w_a[0]+w_a[1]*fil_a[j][1]+w_a[2]*fil_a[j-1][1]+w_a[3]*fil_a[j-2][1]+w_a[4]*pre_a[j-1]+w_a[5]*pre_a[j-2];\n",
        "    pre_a_3 = pre_a[3:len(pre_a)]\n",
        "  \n",
        "  minw_a = np.zeros(6)\n",
        "  g_a = np.zeros(6)\n",
        "  alpha_a = 0.00000001\n",
        "  min_a = 1\n",
        "\n",
        "  for i in range(0,100000):\n",
        "    for j in range(0,3):\n",
        "      pre_a[j] = fil_a[j][1]\n",
        "    for j in range(3,len(pre_a)):\n",
        "      pre_a[j] = w_a[0]+w_a[1]*fil_a[j][1]+w_a[2]*fil_a[j-1][1]+w_a[3]*fil_a[j-2][1]+w_a[4]*pre_a[j-1]+w_a[5]*pre_a[j-2];\n",
        "    pre_a_3 = pre_a[3:len(pre_a)]\n",
        "\n",
        "    temp_0_a = fil_a.T[0][3:]\n",
        "    temp_1_a = fil_a.T[0][2:len(pre_a)-1]\n",
        "    temp_2_a = fil_a.T[0][1:len(pre_a)-2]\n",
        "\n",
        "    pre_a_3_1 = pre_a[2:len(pre_a)-1]\n",
        "    pre_a_3_2 = pre_a[1:len(pre_a)-2]\n",
        "    g_a[0] = 2*np.sum(fil_a_3-pre_a_3)\n",
        "    g_a[1] = 2*np.sum(np.dot((fil_a_3-pre_a_3),temp_0_a))\n",
        "    g_a[2] = 2*np.sum(np.dot((fil_a_3-pre_a_3),temp_1_a))\n",
        "    g_a[3] = 2*np.sum(np.dot((fil_a_3-pre_a_3),temp_2_a))\n",
        "    g_a[4] = 2*np.sum(np.dot((fil_a_3-pre_a_3),pre_a_3_1))\n",
        "    g_a[5] = 2*np.sum(np.dot((fil_a_3-pre_a_3),pre_a_3_2))\n",
        "    \n",
        "\n",
        "    w_a = w_a + alpha_a*g_a\n",
        "\n",
        "    mape_a = np.sum(np.abs(pre_a_3-fil_a_3)/fil_a_3)/len(pre_a_3)\n",
        "    if i%3000 == 0:\n",
        "      print(mape_a)\n",
        "    if mape_a < min_a:\n",
        "      min_a = mape_a\n",
        "      minw_a = w_a\n",
        "    # if i%1000 == 0:\n",
        "    #   print(mape_a*100,\" %\")\n",
        "  print(minw_a)\n",
        "  print(min_a)\n",
        "\n",
        "  w_a = minw_a\n",
        "  for j in range(0,3):\n",
        "    pre_a[j] = fil_a[j][1]\n",
        "  for j in range(3,len(pre_a)):\n",
        "    pre_a[j] = w_a[0]+w_a[1]*fil_a[j][1]+w_a[2]*fil_a[j-1][1]+w_a[3]*fil_a[j-2][1]+w_a[4]*pre_a[j-1]+w_a[5]*pre_a[j-2]\n",
        "\n",
        "  pre_a_3 = pre_a[3:len(pre_a)]\n",
        "  mape_A = np.sum(np.abs(pre_a_3-fil_a_3)/fil_a_3)/len(pre_a_3)\n",
        "  print(\"City_A MAPE: \",mape_A)  \n",
        "  \n",
        "  #city_b\n",
        "  w_b = np.zeros(6)\n",
        "  fil_b_3 = fil_b.T[1][3:]\n",
        "  # print(fil_a_3)\n",
        "  pre_b = np.zeros(len(fil_b))\n",
        "\n",
        "  for j in range(0,3):\n",
        "    pre_b[j] = fil_b[j][1]\n",
        "  for j in range(3,len(pre_b)):\n",
        "    pre_b[j] = w_b[0]+w_b[1]*fil_b[j][1]+w_b[2]*fil_b[j-1][1]+w_b[3]*fil_b[j-2][1]+w_b[4]*pre_b[j-1]+w_b[5]*pre_b[j-2]\n",
        "    pre_b_3 = pre_b[3:len(pre_b)]\n",
        "  \n",
        "  minw_b = np.zeros(6)\n",
        "  g_b = np.zeros(6)\n",
        "  alpha_b = 0.000003\n",
        "  min_b = 1\n",
        "\n",
        "  for i in range(0,100000):\n",
        "    for j in range(0,3):\n",
        "      pre_b[j] = fil_b[j][1]\n",
        "    for j in range(3,len(pre_b)):\n",
        "      pre_b[j] = w_b[0]+w_b[1]*fil_b[j][1]+w_b[2]*fil_b[j-1][1]+w_b[3]*fil_b[j-2][1]+w_b[4]*pre_b[j-1]+w_b[5]*pre_b[j-2]\n",
        "    pre_b_3 = pre_b[3:len(pre_b)]\n",
        "\n",
        "    temp_0_b = fil_b.T[0][3:]\n",
        "    temp_1_b = fil_b.T[0][2:len(pre_b)-1]\n",
        "    temp_2_b = fil_b.T[0][1:len(pre_b)-2]\n",
        "\n",
        "    pre_b_3_1 = pre_b[2:len(pre_b)-1]\n",
        "    pre_b_3_2 = pre_b[1:len(pre_b)-2]\n",
        "    g_b[0] = 2*np.sum(fil_b_3-pre_b_3)\n",
        "    g_b[1] = 2*np.sum(np.dot((fil_b_3-pre_b_3),temp_0_b))\n",
        "    g_b[2] = 2*np.sum(np.dot((fil_b_3-pre_b_3),temp_1_b))\n",
        "    g_b[3] = 2*np.sum(np.dot((fil_b_3-pre_b_3),temp_2_b))\n",
        "    g_b[4] = 2*np.sum(np.dot((fil_b_3-pre_b_3),pre_b_3_1))\n",
        "    g_b[5] = 2*np.sum(np.dot((fil_b_3-pre_b_3),pre_b_3_2))\n",
        "    \n",
        "\n",
        "    w_b = w_b + alpha_b*g_b\n",
        "\n",
        "    mape_b = np.sum(np.abs(pre_b_3-fil_b_3)/fil_b_3)/len(pre_b_3)\n",
        "    if i%3000 == 0:\n",
        "      print(mape_b)\n",
        "    if mape_b < min_b:\n",
        "      min_b = mape_b\n",
        "      minw_b = w_b\n",
        "    # if i%1000 == 0:\n",
        "    #   print(mape_a*100,\" %\")\n",
        "  print(minw_b)\n",
        "  print(min_b)\n",
        "\n",
        "  w_b = minw_b\n",
        "  for j in range(0,3):\n",
        "    pre_b[j] = fil_b[j][1]\n",
        "  for j in range(3,len(pre_b)):\n",
        "    pre_b[j] = w_b[0]+w_b[1]*fil_b[j][1]+w_b[2]*fil_b[j-1][1]+w_b[3]*fil_b[j-2][1]+w_b[4]*pre_b[j-1]+w_b[5]*pre_b[j-2]\n",
        "\n",
        "  pre_b_3 = pre_b[3:len(pre_b)]\n",
        "  mape_B = np.sum(np.abs(pre_b_3-fil_b_3)/fil_b_3)/len(pre_b_3)\n",
        "  print(\"City_B MAPE: \",mape_B) \n",
        " \n",
        "  #city_c\n",
        "\n",
        "  w_c = np.zeros(6)\n",
        "  fil_c_3 = fil_c.T[1][3:]\n",
        "  # print(fil_a_3)\n",
        "  pre_c = np.zeros(len(fil_c))\n",
        "\n",
        "  for j in range(0,3):\n",
        "    pre_c[j] = fil_c[j][1]\n",
        "  for j in range(3,len(pre_c)):\n",
        "    pre_c[j] = w_c[0]+w_c[1]*fil_c[j][1]+w_c[2]*fil_c[j-1][1]+w_c[3]*fil_c[j-2][1]+w_c[4]*pre_c[j-1]+w_c[5]*pre_c[j-2]\n",
        "    pre_c_3 = pre_c[3:len(pre_c)]\n",
        "  \n",
        "  minw_c = np.zeros(6)\n",
        "  g_c = np.zeros(6)\n",
        "  alpha_c = 0.00000005\n",
        "  min_c = 1\n",
        "\n",
        "  for i in range(0,20000):\n",
        "    for j in range(0,3):\n",
        "      pre_c[j] = fil_c[j][1]\n",
        "    for j in range(3,len(pre_c)):\n",
        "      pre_c[j] = w_c[0]+w_c[1]*fil_c[j][1]+w_c[2]*fil_c[j-1][1]+w_c[3]*fil_c[j-2][1]+w_c[4]*pre_c[j-1]+w_c[5]*pre_c[j-2]\n",
        "    pre_c_3 = pre_c[3:len(pre_c)]\n",
        "\n",
        "    temp_0_c = fil_c.T[0][3:]\n",
        "    temp_1_c = fil_c.T[0][2:len(pre_c)-1]\n",
        "    temp_2_c = fil_c.T[0][1:len(pre_c)-2]\n",
        "\n",
        "    pre_c_3_1 = pre_c[2:len(pre_c)-1]\n",
        "    prec_3_2 = pre_c[1:len(pre_c)-2]\n",
        "    g_c[0] = 2*np.sum(fil_c_3-pre_c_3)\n",
        "    g_c[1] = 2*np.sum(np.dot((fil_c_3-pre_c_3),temp_0_c))\n",
        "    g_c[2] = 2*np.sum(np.dot((fil_c_3-pre_c_3),temp_1_c))\n",
        "    g_c[3] = 2*np.sum(np.dot((fil_c_3-pre_c_3),temp_2_c))\n",
        "    g_c[4] = 2*np.sum(np.dot((fil_c_3-pre_c_3),pre_c_3_1))\n",
        "    g_c[5] = 2*np.sum(np.dot((fil_c_3-pre_c_3),prec_3_2))\n",
        "    \n",
        "\n",
        "    w_c = w_c + alpha_c*g_c\n",
        "\n",
        "    mape_c = np.sum(np.abs(pre_c_3-fil_c_3)/fil_c_3)/len(pre_c_3)\n",
        "    if i%3000 == 0:\n",
        "      print(mape_c)\n",
        "    if mape_c < min_c:\n",
        "      min_c = mape_c\n",
        "      minw_c = w_c\n",
        "    # if i%1000 == 0:\n",
        "    #   print(mape_a*100,\" %\")\n",
        "  print(minw_c)\n",
        "  print(min_c)\n",
        "\n",
        "  w_c = minw_c\n",
        "  for j in range(0,3):\n",
        "    pre_c[j] = fil_c[j][1]\n",
        "  for j in range(3,len(pre_c)):\n",
        "    pre_c[j] = w_c[0]+w_c[1]*fil_c[j][1]+w_c[2]*fil_c[j-1][1]+w_c[3]*fil_c[j-2][1]+w_c[4]*pre_c[j-1]+w_c[5]*pre_c[j-2]\n",
        "\n",
        "  pre_c_3 = pre_c[3:len(pre_c)]\n",
        "  mape_C = np.sum(np.abs(pre_c_3-fil_c_3)/fil_c_3)/len(pre_c_3)\n",
        "  print(\"City_C MAPE: \",mape_C)  \n",
        "\n",
        "\n",
        "\n"
      ],
      "metadata": {
        "id": "Tx9n1_23N8C0"
      },
      "execution_count": 242,
      "outputs": []
    },
    {
      "cell_type": "markdown",
      "source": [],
      "metadata": {
        "id": "1WTFU5Mcx30t"
      }
    },
    {
      "cell_type": "code",
      "source": [
        "Regression()"
      ],
      "metadata": {
        "colab": {
          "base_uri": "https://localhost:8080/"
        },
        "id": "IyhebMv6Z00r",
        "outputId": "6edfdafb-748b-4408-d61e-ffa0bc141e3b"
      },
      "execution_count": 243,
      "outputs": [
        {
          "output_type": "stream",
          "name": "stdout",
          "text": [
            "1.0\n",
            "0.12577012093962797\n",
            "0.115697972743459\n",
            "0.11338717711219322\n",
            "0.11494491635346994\n",
            "0.11700679950789382\n",
            "0.11755274123078623\n",
            "0.11663331116007584\n",
            "0.11539982799495578\n",
            "0.11473761575076308\n",
            "0.11534021276810608\n",
            "0.1188208440740432\n",
            "0.12316919015722917\n",
            "0.12754851215905794\n",
            "0.13259113270735326\n",
            "0.13835219478641955\n",
            "0.1436882370677271\n",
            "0.1489523190977241\n",
            "0.153800184837643\n",
            "0.1574431897265835\n",
            "0.1559642066247365\n",
            "0.1466731270472363\n",
            "0.13615226746688125\n",
            "0.12613673207556259\n",
            "0.11894481979343673\n",
            "0.11555407639284883\n",
            "0.1143336238373832\n",
            "0.11673655023014845\n",
            "0.12040366680521374\n",
            "0.1251229375544041\n",
            "0.13282198307992185\n",
            "0.1446668413631619\n",
            "0.16444334952960485\n",
            "0.21162202195028798\n",
            "[ 0.01974682  0.46008674  0.54566416  0.53241764 -0.2436153  -0.34201456]\n",
            "0.11306966676243073\n",
            "City_A MAPE:  0.1130699160509973\n",
            "1.0\n",
            "0.0021667053428845034\n",
            "0.0019258853184679773\n",
            "0.001741645920378618\n",
            "0.0016010895474119129\n",
            "0.0014886914662005945\n",
            "0.0013973903342407443\n",
            "0.0013229919827239818\n",
            "0.0012618056083427724\n",
            "0.0012128724696248783\n",
            "0.0011741674465901254\n",
            "0.0011420973323537872\n",
            "0.0011148534184820269\n",
            "0.001091066244201895\n",
            "0.0010701134875309164\n",
            "0.001051512022382719\n",
            "0.001034994496173734\n",
            "0.0010201892085821862\n",
            "0.0010067968625267888\n",
            "0.000994621257575295\n",
            "0.0009835012864919243\n",
            "0.0009733034445421953\n",
            "0.0009639161596787203\n",
            "0.0009552454546053561\n",
            "0.0009472115936538931\n",
            "0.000940146897027334\n",
            "0.000933756034350776\n",
            "0.0009277808763160007\n",
            "0.0009221821210366979\n",
            "0.0009169253754591556\n",
            "0.0009119803990766332\n",
            "0.0009073204841445593\n",
            "0.0009029348511469289\n",
            "0.0008988380882579402\n",
            "[ 0.04177581  0.99803955  1.06587491  0.82855353 -1.06696618 -0.82693829]\n",
            "0.0008975226815555308\n",
            "City_B MAPE:  0.0008975213766174662\n",
            "1.0\n",
            "0.21588130862825114\n",
            "0.16814961695271247\n",
            "0.13335526702425357\n",
            "0.11104691987137714\n",
            "0.09530436514624824\n",
            "0.07618378092402175\n",
            "[ 0.03339532  0.92745525  0.99734192  1.00427285 -1.01417813 -0.9135882 ]\n",
            "0.06144532560361467\n",
            "City_C MAPE:  0.061437786212593375\n"
          ]
        }
      ]
    },
    {
      "cell_type": "markdown",
      "source": [],
      "metadata": {
        "id": "TOmozUTiZxT7"
      }
    },
    {
      "cell_type": "markdown",
      "source": [
        "### Step 4: Make Prediction\n",
        "Make prediction of testing dataset and store the value in *output_datalist*"
      ],
      "metadata": {
        "id": "2NxRNFwyN8xd"
      }
    },
    {
      "cell_type": "code",
      "source": [
        "def MakePrediction():\n",
        "  global output_datalist\n",
        "  missing = input_datalist[95:]\n",
        "  missing_t = missing.T\n",
        "  missing_a_temp_ch = missing_t[1]\n",
        "  missing_b_temp_ch = missing_t[2]\n",
        "  missing_c_temp_ch = missing_t[3]\n",
        "\n",
        "  missing_a_temp = missing_a_temp_ch.astype(float)\n",
        "  missing_b_temp = missing_b_temp_ch.astype(float)\n",
        "  missing_c_temp = missing_c_temp_ch.astype(float)\n",
        "  filted_a_temp = np.hstack((fil_a.T[0],missing_a_temp))\n",
        "  filted_b_temp = np.hstack((fil_b.T[0],missing_b_temp))\n",
        "  filted_c_temp = np.hstack((fil_c.T[0],missing_c_temp))\n",
        "\n",
        "  predict_of_a = np.zeros(len(fil_a)+10)\n",
        "  predict_of_b = np.zeros(len(fil_b)+10)\n",
        "  predict_of_c = np.zeros(len(fil_c)+10)\n",
        "\n",
        "  for i in range(0,3):\n",
        "    predict_of_a[i] = fil_a[i][1]\n",
        "  for j in range(3,len(predict_of_a)):\n",
        "    predict_of_a[j] = w_a[0]+w_a[1]*filted_a_temp[j]+w_a[2]*filted_a_temp[j-1]+w_a[3]*filted_a_temp[j-2]+w_a[4]*predict_of_a[j-1]+w_a[5]*predict_of_a[j-2];\n",
        "\n",
        "  for i in range(0,3):\n",
        "    predict_of_b[i] = fil_b[i][1]\n",
        "  for j in range(3,len(predict_of_b)):\n",
        "    predict_of_b[j] = w_b[0]+w_b[1]*filted_b_temp[j]+w_b[2]*filted_b_temp[j-1]+w_b[3]*filted_b_temp[j-2]+w_b[4]*predict_of_b[j-1]+w_b[5]*predict_of_b[j-2];\n",
        "\n",
        "  for i in range(0,3):\n",
        "    predict_of_c[i] = fil_c[i][1]\n",
        "  for j in range(3,len(predict_of_c)):\n",
        "    predict_of_c[j] = w_c[0]+w_c[1]*filted_c_temp[j]+w_c[2]*filted_c_temp[j-1]+w_c[3]*filted_c_temp[j-2]+w_c[4]*predict_of_c[j-1]+w_c[5]*predict_of_c[j-2];\n",
        "  date = input_datalist.T[0][95:]\n",
        "  prediction = np.array([date,predict_of_a[-10:],predict_of_b[-10:],predict_of_c[-10:]])\n",
        "  \n",
        "\n",
        "  \n",
        "\n",
        "  \n",
        "  op = prediction.T\n",
        "  output_datalist = op.astype(str)\n",
        "  print(output_datalist)"
      ],
      "metadata": {
        "id": "EKlDIC2-N_lk"
      },
      "execution_count": 244,
      "outputs": []
    },
    {
      "cell_type": "code",
      "source": [
        "MakePrediction()"
      ],
      "metadata": {
        "colab": {
          "base_uri": "https://localhost:8080/"
        },
        "id": "mmKajRMXJ32t",
        "outputId": "0b538672-d4b1-41cf-98ab-b4e35d1bbb42"
      },
      "execution_count": 245,
      "outputs": [
        {
          "output_type": "stream",
          "name": "stdout",
          "text": [
            "[['202143' '27.943246262873' '19.560672569503357' '27.988937925576177']\n",
            " ['202144' '26.887070987012898' '24.45044842228638' '27.063908280925542']\n",
            " ['202145' '26.751825133755904' '22.562253644756304' '29.265664497720113']\n",
            " ['202146' '26.015493390211283' '22.469501983550327' '26.460590728182034']\n",
            " ['202147' '25.09123154706223' '23.154117261866745' '27.779016826160934']\n",
            " ['202148' '23.093497324007387' '21.46099191969415' '24.910281980883635']\n",
            " ['202149' '22.15019110581561' '22.138240189378113' '29.22724233355334']\n",
            " ['202150' '24.943802478992893' '17.29422491800103' '27.165653865025504']\n",
            " ['202151' '26.838378014680867' '19.083484263286742' '30.035194075519353']\n",
            " ['202152' '26.512890681122066' '23.687938770841967' '27.569172679656813']]\n"
          ]
        }
      ]
    },
    {
      "cell_type": "markdown",
      "source": [],
      "metadata": {
        "id": "OnWk7eaQJ3rf"
      }
    },
    {
      "cell_type": "markdown",
      "source": [
        "### Step 5: Train Model and Generate Result\n",
        "\n",
        "> Notice: **Remember to output the coefficients of the model here**, otherwise 5 points would be deducted\n",
        "* If your regression model is *3x^2 + 2x^1 + 1*, your output would be: \n",
        "```\n",
        "3 2 1\n",
        "```\n",
        "\n",
        "\n",
        "\n"
      ],
      "metadata": {
        "id": "cCd0Z6izOCwq"
      }
    },
    {
      "cell_type": "markdown",
      "source": [
        "Basic model:\n",
        "P[t] = a0 + (a1)T[t] + (a2)T[t-1] + (a3)T[t-2] + (a4)P[j-1] + (a5)P[j-2]"
      ],
      "metadata": {
        "id": "L4w5tAluCjf5"
      }
    },
    {
      "cell_type": "markdown",
      "source": [
        "City A :"
      ],
      "metadata": {
        "id": "g7OY8x1uEBrv"
      }
    },
    {
      "cell_type": "code",
      "source": [
        "print(w_a)"
      ],
      "metadata": {
        "colab": {
          "base_uri": "https://localhost:8080/"
        },
        "id": "4agR7ho8EFaQ",
        "outputId": "e1ac7c05-2f51-496f-c3c1-c4d3e2bced0f"
      },
      "execution_count": 246,
      "outputs": [
        {
          "output_type": "stream",
          "name": "stdout",
          "text": [
            "[ 0.01974682  0.46008674  0.54566416  0.53241764 -0.2436153  -0.34201456]\n"
          ]
        }
      ]
    },
    {
      "cell_type": "markdown",
      "source": [
        "City B :"
      ],
      "metadata": {
        "id": "B9P7FzpDEMvk"
      }
    },
    {
      "cell_type": "code",
      "source": [
        "print(w_b)"
      ],
      "metadata": {
        "colab": {
          "base_uri": "https://localhost:8080/"
        },
        "id": "fLsmMKp3EMRN",
        "outputId": "52d7c864-c47a-4b5c-a914-8d5c45410748"
      },
      "execution_count": 247,
      "outputs": [
        {
          "output_type": "stream",
          "name": "stdout",
          "text": [
            "[ 0.04177581  0.99803955  1.06587491  0.82855353 -1.06696618 -0.82693829]\n"
          ]
        }
      ]
    },
    {
      "cell_type": "markdown",
      "source": [
        "City C :"
      ],
      "metadata": {
        "id": "jHTMzHVsESPe"
      }
    },
    {
      "cell_type": "code",
      "source": [
        "print(w_c)"
      ],
      "metadata": {
        "colab": {
          "base_uri": "https://localhost:8080/"
        },
        "id": "hAqt0y6XEXuv",
        "outputId": "aaa2b91f-85dc-46e3-ff3a-02ad66b9c361"
      },
      "execution_count": 248,
      "outputs": [
        {
          "output_type": "stream",
          "name": "stdout",
          "text": [
            "[ 0.03339532  0.92745525  0.99734192  1.00427285 -1.01417813 -0.9135882 ]\n"
          ]
        }
      ]
    },
    {
      "cell_type": "markdown",
      "source": [
        "## Write the Output File\n",
        "Write the prediction to output csv\n",
        "> Format: 'epiweek', 'CityA', 'CityB', 'CityC'"
      ],
      "metadata": {
        "id": "J8Jhd8wAOk3D"
      }
    },
    {
      "cell_type": "code",
      "source": [
        "with open(output_dataroot, 'w', newline='', encoding=\"utf-8\") as csvfile:\n",
        "  writer = csv.writer(csvfile)\n",
        "  for row in output_datalist:\n",
        "    writer.writerow(row)"
      ],
      "metadata": {
        "id": "tYQVYLlKOtDB"
      },
      "execution_count": 249,
      "outputs": []
    },
    {
      "cell_type": "markdown",
      "source": [
        "# 2. Advanced Part (35%)\n",
        "In the second part, you need to implement the regression in a different way than the basic part to help your predictions for the number of dengue cases\n",
        "\n",
        "We provide you with two files **hw1_advanced_input1.csv** and **hw1_advanced_input2.csv** that can help you in this part\n",
        "\n",
        "Please save the prediction result in a csv file **hw1_advanced.csv** \n"
      ],
      "metadata": {
        "id": "rx4408qg4xMQ"
      }
    },
    {
      "cell_type": "code",
      "source": [
        "def Regression_ad():\n",
        "  global ad_w_a,ad_w_b,ad_w_c    \n",
        "  #city_a\n",
        "\n",
        "  ad_w_a = np.zeros(9)\n",
        "  fil_a_3 = fil_a.T[1][3:]\n",
        "\n",
        "  \n",
        "  # print(fil_a_3)\n",
        "  pre_a = np.zeros(len(fil_a))\n",
        "\n",
        "  for j in range(0,3):\n",
        "    pre_a[j] = fil_a[j][1]\n",
        "  for j in range(3,len(pre_a)):\n",
        "    pre_a[j] = ad_w_a[0]+ad_w_a[1]*fil_a[j][1]+ad_w_a[2]*fil_a[j-1][1]+ad_w_a[3]*fil_a[j-2][1]+ad_w_a[4]*pre_a[j-1]+ad_w_a[5]*pre_a[j-2]+ad_w_a[6]*ad_fil_a[j-1]+ad_w_a[7]*ad_fil_a[j-2]+ad_w_a[8]*ad_fil_a[j-3]\n",
        "    \n",
        "  pre_a_3 = pre_a[3:len(pre_a)]\n",
        "  \n",
        "  ad_minw_a = np.zeros(9)\n",
        "  ad_g_a = np.zeros(9)\n",
        "  ad_alpha_a = 0.000000001\n",
        "  ad_min_a = 1\n",
        "\n",
        "  for i in range(0,50000):\n",
        "    for j in range(0,3):\n",
        "      pre_a[j] = fil_a[j][1]\n",
        "    for j in range(3,len(pre_a)):\n",
        "      pre_a[j] = ad_w_a[0]+ad_w_a[1]*fil_a[j][1]+ad_w_a[2]*fil_a[j-1][1]+ad_w_a[3]*fil_a[j-2][1]+ad_w_a[4]*pre_a[j-1]+ad_w_a[5]*pre_a[j-2]+ad_w_a[6]*ad_fil_a[j-1]+ad_w_a[7]*ad_fil_a[j-2]+ad_w_a[8]*ad_fil_a[j-3]\n",
        "    pre_a_3 = pre_a[3:len(pre_a)]\n",
        "\n",
        "    temp_0_a = fil_a.T[0][3:]\n",
        "    temp_1_a = fil_a.T[0][2:len(pre_a)-1]\n",
        "    temp_2_a = fil_a.T[0][1:len(pre_a)-2]\n",
        "\n",
        "    pre_a_3_1 = pre_a[2:len(pre_a)-1]\n",
        "    pre_a_3_2 = pre_a[1:len(pre_a)-2]\n",
        "    \n",
        "\n",
        "    rain_0_a = ad_fil_a[3:len(pre_a)]\n",
        "    rain_1_a = ad_fil_a[2:len(pre_a)-1]\n",
        "    rain_2_a = ad_fil_a[1:len(pre_a)-2]\n",
        "    rain_3_a = ad_fil_a[0:len(pre_a)-3]\n",
        "\n",
        "    ad_g_a[0] = 2*np.sum(fil_a_3-pre_a_3)\n",
        "    ad_g_a[1] = 2*np.sum(np.dot((fil_a_3-pre_a_3),temp_0_a))\n",
        "    ad_g_a[2] = 2*np.sum(np.dot((fil_a_3-pre_a_3),temp_1_a))\n",
        "    ad_g_a[3] = 2*np.sum(np.dot((fil_a_3-pre_a_3),temp_2_a))\n",
        "    ad_g_a[4] = 2*np.sum(np.dot((fil_a_3-pre_a_3),pre_a_3_1))\n",
        "    ad_g_a[5] = 2*np.sum(np.dot((fil_a_3-pre_a_3),pre_a_3_2))\n",
        "    ad_g_a[6] = 2*np.sum(np.dot((fil_a_3-pre_a_3),rain_1_a))\n",
        "    ad_g_a[7] = 2*np.sum(np.dot((fil_a_3-pre_a_3),rain_2_a))\n",
        "    ad_g_a[8] = 2*np.sum(np.dot((fil_a_3-pre_a_3),rain_3_a))\n",
        "    \n",
        "    ad_w_a = ad_w_a + ad_alpha_a * ad_g_a\n",
        "\n",
        "    ad_mape_a = np.sum(np.abs(pre_a_3-fil_a_3)/fil_a_3)/len(pre_a_3)\n",
        "    if ad_mape_a < ad_min_a:\n",
        "      ad_min_a = ad_mape_a\n",
        "      ad_minw_a = ad_w_a\n",
        "    if i%2000 == 0:\n",
        "      print(ad_mape_a)\n",
        "    \n",
        "  print(ad_minw_a)\n",
        "  print(ad_min_a)\n",
        "\n",
        "  ad_w_a = ad_minw_a\n",
        "  for j in range(0,3):\n",
        "    pre_a[j] = fil_a[j][1]\n",
        "  for j in range(3,len(pre_a)):\n",
        "    pre_a[j] = ad_w_a[0]+ad_w_a[1]*fil_a[j][1]+ad_w_a[2]*fil_a[j-1][1]+ad_w_a[3]*fil_a[j-2][1]+ad_w_a[4]*pre_a[j-1]+ad_w_a[5]*pre_a[j-2]+ad_w_a[6]*ad_fil_a[j-1]+ad_w_a[7]*ad_fil_a[j-2]+ad_w_a[8]*ad_fil_a[j-3]\n",
        "  pre_a_3 = pre_a[3:len(pre_a)]\n",
        "  ad_mape_A = np.sum(np.abs(pre_a_3-fil_a_3)/fil_a_3)/len(pre_a_3)\n",
        "  print(\"City_a MAPE: \",ad_mape_A)  \n",
        "  \n",
        "  # #city_b\n",
        "\n",
        "  ad_w_b = np.zeros(9)\n",
        "  fil_b_3 = fil_b.T[1][3:]\n",
        "\n",
        "  \n",
        "  # print(fil_b_3)\n",
        "  pre_b = np.zeros(len(fil_b))\n",
        "\n",
        "  for j in range(0,3):\n",
        "    pre_b[j] = fil_b[j][1]\n",
        "  for j in range(3,len(pre_b)):\n",
        "    pre_b[j] = ad_w_b[0]+ad_w_b[1]*fil_b[j][1]+ad_w_b[2]*fil_b[j-1][1]+ad_w_b[3]*fil_b[j-2][1]+ad_w_b[4]*pre_b[j-1]+ad_w_b[5]*pre_b[j-2]+ad_w_b[6]*ad_fil_b[j-1]+ad_w_b[7]*ad_fil_b[j-2]+ad_w_b[8]*ad_fil_b[j-3]\n",
        "    \n",
        "  pre_b_3 = pre_b[3:len(pre_b)]\n",
        "  \n",
        "  ad_minw_b = np.zeros(9)\n",
        "  ad_g_b = np.zeros(9)\n",
        "  ad_alpha_b = 0.00000005\n",
        "  ad_min_b = 1\n",
        "\n",
        "  for i in range(0,50000):\n",
        "    for j in range(0,3):\n",
        "      pre_b[j] = fil_b[j][1]\n",
        "    for j in range(3,len(pre_b)):\n",
        "      pre_b[j] = ad_w_b[0]+ad_w_b[1]*fil_b[j][1]+ad_w_b[2]*fil_b[j-1][1]+ad_w_b[3]*fil_b[j-2][1]+ad_w_b[4]*pre_b[j-1]+ad_w_b[5]*pre_b[j-2]+ad_w_b[6]*ad_fil_b[j-1]+ad_w_b[7]*ad_fil_b[j-2]+ad_w_b[8]*ad_fil_b[j-3]\n",
        "    \n",
        "    pre_b_3 = pre_b[3:len(pre_b)]\n",
        "\n",
        "    temp_0_b = fil_b.T[0][3:]\n",
        "    temp_1_b = fil_b.T[0][2:len(pre_b)-1]\n",
        "    temp_2_b = fil_b.T[0][1:len(pre_b)-2]\n",
        "\n",
        "    pre_b_3_1 = pre_b[2:len(pre_b)-1]\n",
        "    pre_b_3_2 = pre_b[1:len(pre_b)-2]\n",
        "    \n",
        "\n",
        "    rain_0_b = ad_fil_b[3:len(pre_b)]\n",
        "    rain_1_b = ad_fil_b[2:len(pre_b)-1]\n",
        "    rain_2_b = ad_fil_b[1:len(pre_b)-2]\n",
        "    rain_3_b = ad_fil_b[0:len(pre_b)-3]\n",
        "\n",
        "    ad_g_b[0] = 2*np.sum(fil_b_3-pre_b_3)\n",
        "    ad_g_b[1] = 2*np.sum(np.dot((fil_b_3-pre_b_3),temp_0_b))\n",
        "    ad_g_b[2] = 2*np.sum(np.dot((fil_b_3-pre_b_3),temp_1_b))\n",
        "    ad_g_b[3] = 2*np.sum(np.dot((fil_b_3-pre_b_3),temp_2_b))\n",
        "    ad_g_b[4] = 2*np.sum(np.dot((fil_b_3-pre_b_3),pre_b_3_1))\n",
        "    ad_g_b[5] = 2*np.sum(np.dot((fil_b_3-pre_b_3),pre_b_3_2))\n",
        "    ad_g_b[6] = 2*np.sum(np.dot((fil_b_3-pre_b_3),rain_1_b))\n",
        "    ad_g_b[7] = 2*np.sum(np.dot((fil_b_3-pre_b_3),rain_2_b))\n",
        "    ad_g_b[8] = 2*np.sum(np.dot((fil_b_3-pre_b_3),rain_3_b))\n",
        "    \n",
        "    ad_w_b = ad_w_b + ad_alpha_b * ad_g_b\n",
        "\n",
        "    ad_mape_b = np.sum(np.abs(pre_b_3-fil_b_3)/fil_b_3)/len(pre_b_3)\n",
        "    if ad_mape_b < ad_min_b:\n",
        "      ad_min_b = ad_mape_b\n",
        "      ad_minw_b = ad_w_b\n",
        "    if i%2000 == 0:\n",
        "      print(ad_mape_b)\n",
        "    \n",
        "  print(ad_minw_b)\n",
        "  print(ad_min_b)\n",
        "\n",
        "  ad_w_b = ad_minw_b\n",
        "  for j in range(0,3):\n",
        "    pre_b[j] = fil_b[j][1]\n",
        "  for j in range(3,len(pre_b)):\n",
        "    pre_b[j] = ad_w_b[0]+ad_w_b[1]*fil_b[j][1]+ad_w_b[2]*fil_b[j-1][1]+ad_w_b[3]*fil_b[j-2][1]+ad_w_b[4]*pre_b[j-1]+ad_w_b[5]*pre_b[j-2]+ad_w_b[6]*ad_fil_b[j-1]+ad_w_b[7]*ad_fil_b[j-2]+ad_w_b[8]*ad_fil_b[j-3]\n",
        "  pre_b_3 = pre_b[3:len(pre_b)]\n",
        "  ad_mape_B = np.sum(np.abs(pre_b_3-fil_b_3)/fil_b_3)/len(pre_b_3)\n",
        "  print(\"City_b MAPE: \",ad_mape_B)  \n",
        "\n",
        "  # #city_c\n",
        "\n",
        "  ad_w_c = np.zeros(9)\n",
        "  fil_c_3 = fil_c.T[1][3:]\n",
        "\n",
        "  \n",
        "  # print(fil_b_3)\n",
        "  pre_c = np.zeros(len(fil_c))\n",
        "\n",
        "  for j in range(0,3):\n",
        "    pre_c[j] = fil_c[j][1]\n",
        "  for j in range(3,len(pre_c)):\n",
        "    pre_c[j] = ad_w_c[0]+ad_w_c[1]*fil_c[j][1]+ad_w_c[2]*fil_c[j-1][1]+ad_w_c[3]*fil_c[j-2][1]+ad_w_c[4]*pre_c[j-1]+ad_w_c[5]*pre_c[j-2]+ad_w_c[6]*ad_fil_c[j-1]+ad_w_c[7]*ad_fil_c[j-2]+ad_w_c[8]*ad_fil_c[j-3]\n",
        "    \n",
        "  pre_c_3 = pre_c[3:len(pre_c)]\n",
        "  \n",
        "  ad_minw_c = np.zeros(9)\n",
        "  ad_g_c = np.zeros(9)\n",
        "  ad_alpha_c = 0.00000001\n",
        "  ad_min_c = 1\n",
        "\n",
        "  for i in range(0,50000):\n",
        "    for j in range(0,3):\n",
        "      pre_c[j] = fil_c[j][1]\n",
        "    for j in range(3,len(pre_c)):\n",
        "      pre_c[j] = ad_w_c[0]+ad_w_c[1]*fil_c[j][1]+ad_w_c[2]*fil_c[j-1][1]+ad_w_c[3]*fil_c[j-2][1]+ad_w_c[4]*pre_c[j-1]+ad_w_c[5]*pre_c[j-2]+ad_w_c[6]*ad_fil_c[j-1]+ad_w_c[7]*ad_fil_c[j-2]+ad_w_c[8]*ad_fil_c[j-3]\n",
        "    \n",
        "    pre_c_3 = pre_c[3:len(pre_c)]\n",
        "\n",
        "    temp_0_c = fil_c.T[0][3:]\n",
        "    temp_1_c = fil_c.T[0][2:len(pre_c)-1]\n",
        "    temp_2_c = fil_c.T[0][1:len(pre_c)-2]\n",
        "\n",
        "    pre_c_3_1 = pre_c[2:len(pre_c)-1]\n",
        "    pre_c_3_2 = pre_c[1:len(pre_c)-2]\n",
        "    \n",
        "\n",
        "    rain_0_c = ad_fil_c[3:len(pre_c)]\n",
        "    rain_1_c = ad_fil_c[2:len(pre_c)-1]\n",
        "    rain_2_c = ad_fil_c[1:len(pre_c)-2]\n",
        "    rain_3_c = ad_fil_c[0:len(pre_c)-3]\n",
        "\n",
        "    ad_g_c[0] = 2*np.sum(fil_c_3-pre_c_3)\n",
        "    ad_g_c[1] = 2*np.sum(np.dot((fil_c_3-pre_c_3),temp_0_c))\n",
        "    ad_g_c[2] = 2*np.sum(np.dot((fil_c_3-pre_c_3),temp_1_c))\n",
        "    ad_g_c[3] = 2*np.sum(np.dot((fil_c_3-pre_c_3),temp_2_c))\n",
        "    ad_g_c[4] = 2*np.sum(np.dot((fil_c_3-pre_c_3),pre_c_3_1))\n",
        "    ad_g_c[5] = 2*np.sum(np.dot((fil_c_3-pre_c_3),pre_c_3_2))\n",
        "    ad_g_c[6] = 2*np.sum(np.dot((fil_c_3-pre_c_3),rain_1_c))\n",
        "    ad_g_c[7] = 2*np.sum(np.dot((fil_c_3-pre_c_3),rain_2_c))\n",
        "    ad_g_c[8] = 2*np.sum(np.dot((fil_c_3-pre_c_3),rain_3_c))\n",
        "    \n",
        "    ad_w_c = ad_w_c + ad_alpha_c * ad_g_c\n",
        "\n",
        "    ad_mape_c = np.sum(np.abs(pre_c_3-fil_c_3)/fil_c_3)/len(pre_c_3)\n",
        "    if ad_mape_c < ad_min_c:\n",
        "      ad_min_c = ad_mape_c\n",
        "      ad_minw_c = ad_w_c\n",
        "    if i%2000 == 0:\n",
        "      print(ad_mape_c)\n",
        "    \n",
        "  print(ad_minw_c)\n",
        "  print(ad_min_c)\n",
        "\n",
        "  ad_w_c = ad_minw_c\n",
        "  for j in range(0,3):\n",
        "    pre_c[j] = fil_c[j][1]\n",
        "  for j in range(3,len(pre_c)):\n",
        "    pre_c[j] = ad_w_c[0]+ad_w_c[1]*fil_c[j][1]+ad_w_c[2]*fil_c[j-1][1]+ad_w_c[3]*fil_c[j-2][1]+ad_w_c[4]*pre_c[j-1]+ad_w_c[5]*pre_c[j-2]+ad_w_c[6]*ad_fil_c[j-1]+ad_w_c[7]*ad_fil_c[j-2]+ad_w_c[8]*ad_fil_c[j-3]\n",
        "  pre_c_3 = pre_c[3:len(pre_c)]\n",
        "  ad_mape_C = np.sum(np.abs(pre_c_3-fil_c_3)/fil_c_3)/len(pre_c_3)\n",
        "  print(\"City_C MAPE: \",ad_mape_C) \n",
        "\n",
        "\n",
        "\n"
      ],
      "metadata": {
        "id": "DaZCe19m41g1"
      },
      "execution_count": 267,
      "outputs": []
    },
    {
      "cell_type": "code",
      "source": [
        "Regression_ad()"
      ],
      "metadata": {
        "colab": {
          "base_uri": "https://localhost:8080/"
        },
        "id": "xtFAgpzUFkP3",
        "outputId": "c585c745-8b1c-4848-d609-a343c4249967"
      },
      "execution_count": 268,
      "outputs": [
        {
          "output_type": "stream",
          "name": "stdout",
          "text": [
            "1.0\n",
            "0.15785778982550114\n",
            "0.14806255927484085\n",
            "0.14378892076414357\n",
            "0.14014776098032672\n",
            "0.13739183048696502\n",
            "0.13515602593284778\n",
            "0.1330913553519802\n",
            "0.13117822758953876\n",
            "0.12951251586604992\n",
            "0.12818565436116253\n",
            "0.12698482066762154\n",
            "0.1258641674318546\n",
            "0.12481655819074049\n",
            "0.12383567092741715\n",
            "0.12291589067027985\n",
            "0.12205221647649749\n",
            "0.12124018145118637\n",
            "0.12047578420095724\n",
            "0.11975543013917671\n",
            "0.11907588119570507\n",
            "0.11843421265938563\n",
            "0.11791964482885971\n",
            "0.11743309293779919\n",
            "0.1170187001651804\n",
            "[ 0.01505353  0.35676194  0.40890594  0.4009969  -0.08437257 -0.16275814\n",
            "  0.10105885  0.10440231  0.12395263]\n",
            "0.11664362981351346\n",
            "City_a MAPE:  0.11664346877231635\n",
            "1.0\n",
            "0.13414305650172156\n",
            "0.1308092862310159\n",
            "0.1270842407926779\n",
            "0.12335142230747334\n",
            "0.11969121431113006\n",
            "0.11607325163746947\n",
            "0.11243685217327896\n",
            "0.1090224701611308\n",
            "0.1058608336623884\n",
            "0.10279595646384307\n",
            "0.10040541755115945\n",
            "0.09859393186150917\n",
            "0.09727695658076092\n",
            "0.09609249835366404\n",
            "0.09493019244314913\n",
            "0.0936942551818752\n",
            "0.09240499696221252\n",
            "0.0911051073306073\n",
            "0.08979372330841515\n",
            "0.08848140995235812\n",
            "0.08718551923516665\n",
            "0.08594978594905679\n",
            "0.08474156811038151\n",
            "0.08356350357461367\n",
            "[ 0.03523039  0.66393403  0.82075399  0.7644693  -0.88405261 -0.43993132\n",
            "  0.19213293  0.09655037  0.03984038]\n",
            "0.08250124915235701\n",
            "City_b MAPE:  0.08250074290845874\n",
            "1.0\n",
            "0.3302752965382189\n",
            "0.32248700610444586\n",
            "0.31517374886177835\n",
            "0.30802226384085996\n",
            "0.30093173900772796\n",
            "0.293729208445451\n",
            "0.2864453670035418\n",
            "0.28048757458785106\n",
            "0.27519374338757446\n",
            "0.26980827927869466\n",
            "0.26445245542583024\n",
            "0.25957059295536666\n",
            "0.2549848971882475\n",
            "0.25044064844474995\n",
            "0.24595320026984732\n",
            "0.24145617873786118\n",
            "0.2369658832758164\n",
            "0.2324978746311711\n",
            "0.2280670860400212\n",
            "0.2237579983308259\n",
            "0.21956561454133441\n",
            "0.21545200830193256\n",
            "0.21157873712089417\n",
            "0.2079100637207805\n",
            "[ 0.0187299   0.5031643   0.64817288  0.61983858 -0.56119928 -0.30111514\n",
            "  0.09893246  0.11924686  0.02874956]\n",
            "0.20440133096396315\n",
            "City_C MAPE:  0.20439960076454494\n"
          ]
        }
      ]
    },
    {
      "cell_type": "code",
      "source": [
        "def MakePrediction_ad():\n",
        "  global ad_output_datalist\n",
        "  missing = input_datalist[95:]\n",
        "  missing_t = missing.T\n",
        "  missing_a_temp_ch = missing_t[1]\n",
        "  missing_b_temp_ch = missing_t[2]\n",
        "  missing_c_temp_ch = missing_t[3]\n",
        "\n",
        "  missing_r = input_ad1_datalist[95:]\n",
        "  missing_r_t = missing.T\n",
        "  missing_a_rain_ch = missing_r_t[1]\n",
        "  missing_b_rain_ch = missing_r_t[2]\n",
        "  missing_c_rain_ch = missing_r_t[3]\n",
        "\n",
        "  \n",
        "  missing_a_temp = missing_a_temp_ch.astype(float)\n",
        "  missing_b_temp = missing_b_temp_ch.astype(float)\n",
        "  missing_c_temp = missing_c_temp_ch.astype(float)\n",
        "\n",
        "  missing_a_rain = missing_a_rain_ch.astype(float)\n",
        "  missing_b_rain = missing_b_rain_ch.astype(float)\n",
        "  missing_c_rain = missing_c_rain_ch.astype(float)\n",
        "\n",
        "  filted_a_temp = np.hstack((fil_a.T[0],missing_a_temp))\n",
        "  filted_b_temp = np.hstack((fil_b.T[0],missing_b_temp))\n",
        "  filted_c_temp = np.hstack((fil_c.T[0],missing_c_temp))\n",
        "\n",
        "  ad_filted_a_rain = np.hstack((ad_fil_a.T,missing_a_rain))\n",
        "  ad_filted_b_rain = np.hstack((ad_fil_b.T,missing_b_rain))\n",
        "  ad_filted_c_rain = np.hstack((ad_fil_c.T,missing_c_rain))\n",
        "  \n",
        "\n",
        "\n",
        "\n",
        "  predict_of_a = np.zeros(len(fil_a)+10)\n",
        "  predict_of_b = np.zeros(len(fil_b)+10)\n",
        "  predict_of_c = np.zeros(len(fil_c)+10)\n",
        "  \n",
        "  print(len(ad_fil_a))\n",
        "  for i in range(0,8):\n",
        "    predict_of_a[i] = fil_a[i][1]\n",
        "  for j in range(8,len(predict_of_a)):\n",
        "    #predict_of_a[j] = ad_w_a[0]+ad_w_a[1]*fil_a[j-3][1]+ad_w_a[2]*fil_a[j-4][1]+ad_w_a[3]*fil_a[j-5][1]+ad_w_a[4]*fil_a[j-6][1]+ad_w_a[5]*fil_a[j-7][1]+ad_w_a[6]*fil_a[j-8][1]+ad_w_a[7]*(predict_of_a[j-1]-predict_of_a[j-2])+ad_w_a[8]*(predict_of_a[j-2]-predict_of_a[j-3])+ad_w_a[9]*ad_fil_a[j-3]+ad_w_a[10]*ad_fil_a[j-4]+ad_w_a[11]*ad_fil_a[j-5]+ad_w_a[12]*ad_fil_a[j-6]+ad_w_a[13]*ad_fil_a[j-7]+ad_w_a[14]*ad_fil_a[j-8]+ad_w_a[15]*ad_fil_a[j]+ad_w_a[16]*ad_fil_a[j-1]+ad_w_a[17]*ad_fil_a[j-2]+ad_w_a[18]*fil_a[j][1]+ad_w_a[19]*fil_a[j-1][1]+ad_w_a[20]*fil_a[j-2][1]\n",
        "    predict_of_a[j] = ad_w_a[0]+ad_w_a[1]*filted_a_temp[j]+ad_w_a[2]*filted_a_temp[j-1]+ad_w_a[3]*filted_a_temp[j-2]+ad_w_a[4]*predict_of_a[j-1]+ad_w_a[5]*predict_of_a[j-2]+ad_w_a[6]*ad_filted_a_rain[j-1]+ad_w_a[7]*ad_filted_a_rain[j-2]+ad_w_a[8]*ad_filted_a_rain[j-3]\n",
        "\n",
        "  for i in range(0,8):\n",
        "    predict_of_b[i] = fil_b[i][1]\n",
        "  for j in range(8,len(predict_of_b)):\n",
        "    predict_of_b[j] = ad_w_b[0]+ad_w_b[1]*filted_b_temp[j]+ad_w_b[2]*filted_b_temp[j-1]+ad_w_b[3]*filted_b_temp[j-2]+ad_w_b[4]*predict_of_b[j-1]+ad_w_b[5]*predict_of_b[j-2]+ad_w_b[6]*ad_filted_b_rain[j-1]+ad_w_b[7]*ad_filted_b_rain[j-2]+ad_w_b[8]*ad_filted_b_rain[j-3]\n",
        "\n",
        "  for i in range(0,8):\n",
        "    predict_of_c[i] = fil_c[i][1]\n",
        "  for j in range(8,len(predict_of_c)):\n",
        "    predict_of_c[j] = ad_w_c[0]+ad_w_c[1]*filted_c_temp[j]+ad_w_c[2]*filted_c_temp[j-1]+ad_w_c[3]*filted_c_temp[j-2]+ad_w_c[4]*predict_of_c[j-1]+ad_w_c[5]*predict_of_c[j-2]+ad_w_c[6]*ad_filted_c_rain[j-1]+ad_w_c[7]*ad_filted_c_rain[j-2]+ad_w_c[8]*ad_filted_c_rain[j-3]\n",
        "  date = input_datalist.T[0][95:]\n",
        "  prediction = np.array([date,predict_of_a[-10:],predict_of_b[-10:],predict_of_c[-10:]])\n",
        "  \n",
        "\n",
        "  \n",
        "\n",
        "\n",
        "\n",
        "  op = prediction.T\n",
        "  ad_output_datalist = op.astype(str)\n",
        "  print(ad_output_datalist)"
      ],
      "metadata": {
        "id": "JqJ7tdscVRpA"
      },
      "execution_count": 260,
      "outputs": []
    },
    {
      "cell_type": "code",
      "source": [
        "MakePrediction_ad()"
      ],
      "metadata": {
        "colab": {
          "base_uri": "https://localhost:8080/"
        },
        "id": "FBtcjcqQV7UL",
        "outputId": "f7049c26-2bd4-4431-fe4d-58dbde0710da"
      },
      "execution_count": 261,
      "outputs": [
        {
          "output_type": "stream",
          "name": "stdout",
          "text": [
            "82\n",
            "[['202143' '28.69491021100113' '20.252846808979143' '28.160437142675462']\n",
            " ['202144' '30.691154174431194' '26.053562332096885' '28.301700359311877']\n",
            " ['202145' '32.85568004837979' '24.900195072052078' '30.514944579093996']\n",
            " ['202146' '34.43382579785599' '26.143818442410687' '26.766933602768777']\n",
            " ['202147' '31.91702470023279' '24.494205007517824' '29.24376191706741']\n",
            " ['202148' '29.26688729719943' '24.823075253434613' '26.084774308225903']\n",
            " ['202149' '28.34164825219472' '24.564035380310596' '29.094257759666096']\n",
            " ['202150' '30.712446013965653' '20.692765547027882' '28.552352133090864']\n",
            " ['202151' '33.16091464806333' '21.023401198914634' '31.644723297363274']\n",
            " ['202152' '33.42797591803607' '23.16298331810507' '27.26867570345007']]\n"
          ]
        }
      ]
    },
    {
      "cell_type": "code",
      "source": [
        "global ad_output_datalist\n",
        "with open(ad_output_dataroot, 'w', newline='', encoding=\"utf-8\") as csvfile:\n",
        "  writer = csv.writer(csvfile)\n",
        "  for row in ad_output_datalist:\n",
        "    writer.writerow(row)"
      ],
      "metadata": {
        "id": "0AiCtJbmFZvt"
      },
      "execution_count": 254,
      "outputs": []
    },
    {
      "cell_type": "markdown",
      "source": [
        "Advanced Model :"
      ],
      "metadata": {
        "id": "lSAksd6DVAYB"
      }
    },
    {
      "cell_type": "markdown",
      "source": [
        "P[t] = a0 + (a1)T[t] + (a2)T[t-1] + (a3)T[t-2] + (a4)P[t-1] + (a5)P[t-2] + \n",
        "(a6)R[t-1] + (a7)R[t-2] + (a8)R[t-3]"
      ],
      "metadata": {
        "id": "jEAU-p8TU2L_"
      }
    },
    {
      "cell_type": "markdown",
      "source": [
        "City A : "
      ],
      "metadata": {
        "id": "aROKfJyVVKGt"
      }
    },
    {
      "cell_type": "code",
      "source": [
        "print(ad_w_a)"
      ],
      "metadata": {
        "colab": {
          "base_uri": "https://localhost:8080/"
        },
        "id": "U7sSaCUlVP8R",
        "outputId": "93a83174-138b-40ca-9753-164c24a915f4"
      },
      "execution_count": 269,
      "outputs": [
        {
          "output_type": "stream",
          "name": "stdout",
          "text": [
            "[ 0.01505353  0.35676194  0.40890594  0.4009969  -0.08437257 -0.16275814\n",
            "  0.10105885  0.10440231  0.12395263]\n"
          ]
        }
      ]
    },
    {
      "cell_type": "markdown",
      "source": [
        "City B :"
      ],
      "metadata": {
        "id": "OifMJkYlVNGQ"
      }
    },
    {
      "cell_type": "code",
      "source": [
        "print(ad_w_b)"
      ],
      "metadata": {
        "id": "3_S6EOOSVS17",
        "outputId": "a8dd3a85-e1b5-4ec3-e081-331ca5fb0a43",
        "colab": {
          "base_uri": "https://localhost:8080/"
        }
      },
      "execution_count": 270,
      "outputs": [
        {
          "output_type": "stream",
          "name": "stdout",
          "text": [
            "[ 0.03523039  0.66393403  0.82075399  0.7644693  -0.88405261 -0.43993132\n",
            "  0.19213293  0.09655037  0.03984038]\n"
          ]
        }
      ]
    },
    {
      "cell_type": "markdown",
      "source": [
        "City C :"
      ],
      "metadata": {
        "id": "NyVaBL9wVOby"
      }
    },
    {
      "cell_type": "code",
      "source": [
        "print(ad_w_c)"
      ],
      "metadata": {
        "colab": {
          "base_uri": "https://localhost:8080/"
        },
        "id": "bCUqIRYGVM4m",
        "outputId": "a109c6f7-20bd-4fa1-b092-4362ba6d4bdb"
      },
      "execution_count": 271,
      "outputs": [
        {
          "output_type": "stream",
          "name": "stdout",
          "text": [
            "[ 0.0187299   0.5031643   0.64817288  0.61983858 -0.56119928 -0.30111514\n",
            "  0.09893246  0.11924686  0.02874956]\n"
          ]
        }
      ]
    },
    {
      "cell_type": "markdown",
      "source": [
        "# Report *(5%)*\n",
        "\n",
        "Report should be submitted as a pdf file **hw1_report.pdf**\n",
        "\n",
        "*   Briefly describe the difficulty you encountered \n",
        "*   Summarize your work and your reflections \n",
        "*   No more than one page\n",
        "\n",
        "\n",
        "\n",
        "\n"
      ],
      "metadata": {
        "id": "EtgCJU7FPeJL"
      }
    },
    {
      "cell_type": "markdown",
      "source": [
        "# Save the Code File\n",
        "Please save your code and submit it as an ipynb file! (**hw1.ipynb**)"
      ],
      "metadata": {
        "id": "hlEE53_MPf4W"
      }
    }
  ]
}